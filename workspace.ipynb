{
 "cells": [
  {
   "cell_type": "code",
   "execution_count": 2,
   "id": "dccde3a7",
   "metadata": {},
   "outputs": [],
   "source": [
    "import simpleCongurentGenerators\n",
    "import time\n",
    "import numpy as np"
   ]
  },
  {
   "cell_type": "code",
   "execution_count": 2,
   "id": "5fdae0cb",
   "metadata": {},
   "outputs": [],
   "source": [
    "sample_size = int(1e6)"
   ]
  },
  {
   "cell_type": "code",
   "execution_count": 3,
   "id": "0678be0a",
   "metadata": {},
   "outputs": [
    {
     "name": "stdout",
     "output_type": "stream",
     "text": [
      "Elapsed (with compilation) = 2.2192530632019043\n"
     ]
    }
   ],
   "source": [
    "## performance check (seconds - ok for educationals purpose)\n",
    "start = time.time()\n",
    "M=13\n",
    "sample_lcg = simpleCongurentGenerators.get_n_lcg(M, 1, 5, 2, size=int(1e6))\n",
    "end = time.time()\n",
    "print(\"Elapsed (with compilation) = %s\" % (end - start))"
   ]
  },
  {
   "cell_type": "code",
   "execution_count": 4,
   "id": "aafb0fb9",
   "metadata": {},
   "outputs": [
    {
     "data": {
      "text/plain": [
       "array([ 7, 12,  4, ..., 10,  2,  7], dtype=uint32)"
      ]
     },
     "execution_count": 4,
     "metadata": {},
     "output_type": "execute_result"
    }
   ],
   "source": [
    "sample_lcg"
   ]
  },
  {
   "cell_type": "markdown",
   "id": "6c66c136",
   "metadata": {},
   "source": [
    "## Map PRNG sample on [0,1] and perform test "
   ]
  },
  {
   "cell_type": "code",
   "execution_count": 4,
   "id": "91de0ff9",
   "metadata": {},
   "outputs": [],
   "source": [
    "sample_lcg_mapped = sample_lcg / M\n",
    "assert np.all((sample_lcg_mapped) >= 0 & (sample_lcg_mapped <= 1)) , \"not all elements in (0,1)\""
   ]
  },
  {
   "cell_type": "code",
   "execution_count": 5,
   "id": "b4d4b5c6",
   "metadata": {},
   "outputs": [],
   "source": [
    "from chi_square_test import chi_square_test"
   ]
  },
  {
   "cell_type": "code",
   "execution_count": 6,
   "id": "3c5d16be",
   "metadata": {},
   "outputs": [
    {
     "data": {
      "text/plain": [
       "1420.097041599997"
      ]
     },
     "execution_count": 6,
     "metadata": {},
     "output_type": "execute_result"
    }
   ],
   "source": [
    "test_stat = chi_square_test(sample_lcg_mapped)\n",
    "test_stat\n"
   ]
  },
  {
   "cell_type": "code",
   "execution_count": 7,
   "id": "098dae45",
   "metadata": {},
   "outputs": [],
   "source": [
    "from scipy import stats"
   ]
  },
  {
   "cell_type": "code",
   "execution_count": 8,
   "id": "6420a354",
   "metadata": {},
   "outputs": [
    {
     "data": {
      "text/plain": [
       "KstestResult(statistic=0.07692346153846152, pvalue=0.0, statistic_location=0.5384615384615384, statistic_sign=1)"
      ]
     },
     "execution_count": 8,
     "metadata": {},
     "output_type": "execute_result"
    }
   ],
   "source": [
    "stats.kstest(sample_lcg_mapped, 'uniform')"
   ]
  },
  {
   "cell_type": "markdown",
   "id": "a9de39c7",
   "metadata": {},
   "source": [
    "## RC(32)"
   ]
  },
  {
   "cell_type": "code",
   "execution_count": 15,
   "id": "79db8cf7",
   "metadata": {},
   "outputs": [],
   "source": [
    "from PRGA import PRGA\n",
    "from KSA import Keys, KSA"
   ]
  },
  {
   "cell_type": "code",
   "execution_count": 17,
   "id": "5523293f",
   "metadata": {},
   "outputs": [
    {
     "name": "stdout",
     "output_type": "stream",
     "text": [
      "Elapsed (with compilation) = 0.0009884834289550781\n"
     ]
    }
   ],
   "source": [
    "keys = Keys(np.array([3, 4, 2, 5]))\n",
    "ksa = KSA(m=32)\n",
    "ksa.schedule(keys)\n",
    "prga = PRGA(ksa)\n",
    "start = time.time()\n",
    "sample_rc = prga.get_random(40)\n",
    "end = time.time()\n",
    "print(\"Elapsed (with compilation) = %s\" % (end - start))"
   ]
  },
  {
   "cell_type": "code",
   "execution_count": 11,
   "id": "9ce86459",
   "metadata": {},
   "outputs": [],
   "source": [
    "sample_rc_mapped = sample_rc / ksa.m\n",
    "assert np.all((sample_rc_mapped) >= 0 & (sample_rc_mapped <= 1)) , \"not all elements in (0,1)\""
   ]
  },
  {
   "cell_type": "markdown",
   "id": "d1051ec0",
   "metadata": {},
   "source": [
    "## Frequency monobit"
   ]
  },
  {
   "cell_type": "code",
   "execution_count": 12,
   "id": "0ec1c255",
   "metadata": {},
   "outputs": [],
   "source": [
    "# read data\n",
    "import pickle\n",
    "\n",
    "with open('data/binary_expansion_e.pkl', 'rb') as f:\n",
    "    data = pickle.load(f)\n",
    "\n",
    "numbers = data[\"numbers\"]\n",
    "sequence = 2 * numbers - 1 # map into -1 , 1 "
   ]
  },
  {
   "cell_type": "markdown",
   "id": "816f8ca7",
   "metadata": {},
   "source": [
    "## Test function "
   ]
  },
  {
   "cell_type": "code",
   "execution_count": 13,
   "id": "fe885bf5",
   "metadata": {},
   "outputs": [],
   "source": [
    "import numpy as np\n",
    "import math\n",
    "from scipy.stats import norm\n",
    "\n",
    "def frequency_monobit_test(bits):\n",
    "#   bits should be already mapped into [-1,1]\n",
    "    n = len(bits)\n",
    "    S = np.sum(bits)\n",
    "    S_obs = abs(S) / math.sqrt(n)\n",
    "    p_value = 2 * (1 - norm.cdf(S_obs))\n",
    "    return p_value"
   ]
  },
  {
   "cell_type": "code",
   "execution_count": 14,
   "id": "4e688c7f",
   "metadata": {},
   "outputs": [
    {
     "name": "stdout",
     "output_type": "stream",
     "text": [
      "The sequence passes the Frequency (Monobit) Test (p-value: 0.92846)\n"
     ]
    }
   ],
   "source": [
    "p_val = frequency_monobit_test(sequence)\n",
    "if p_val >= 0.01:\n",
    "    print(\"The sequence passes the Frequency (Monobit) Test (p-value: {:.5f})\".format(p_val))\n",
    "else:\n",
    "    print(\"The sequence fails the Frequency (Monobit) Test (p-value: {:.5f})\".format(p_val))"
   ]
  },
  {
   "cell_type": "code",
   "execution_count": 42,
   "id": "a18214fa",
   "metadata": {},
   "outputs": [
    {
     "name": "stdout",
     "output_type": "stream",
     "text": [
      "78\n",
      "[  78  194  429   44  433  319  279 1000  254  533   62  517  325  305\n",
      " 1014  382  197  680  637  539  143   48  762  357   58  537  105  833\n",
      "  622  314]\n"
     ]
    }
   ],
   "source": [
    "def generalized_lcg(m, a, c, x):\n",
    "    return (np.sum(a * x) + c) % m\n",
    "\n",
    "\n",
    "def get_n_glcg(m, a, c, init, size):\n",
    "    assert size >= 1, \"Incorrect size\"\n",
    "    depth = len(init)\n",
    "    result = np.empty(size, dtype=np.uint32)\n",
    "    result = np.concatenate((init, result))\n",
    "    for i in range(depth, size+depth):\n",
    "        result[i] = generalized_lcg(m, a, c, result[i-depth:i])\n",
    "    return result[-size:]\n",
    "\n",
    "\n",
    "a = np.array([3, 7, 68])\n",
    "seed = np.array([1,1,1])\n",
    "rand = generalized_lcg(2 ** 10, a, 0, seed)\n",
    "print(rand)\n",
    "\n",
    "rand_2 = get_n_glcg(2 ** 10, a, 0, seed, 30)\n",
    "\n",
    "print(rand_2)\n",
    "\n"
   ]
  },
  {
   "cell_type": "code",
   "execution_count": 1,
   "id": "a0d6302c",
   "metadata": {},
   "outputs": [
    {
     "ename": "NameError",
     "evalue": "name 'np' is not defined",
     "output_type": "error",
     "traceback": [
      "\u001b[1;31m---------------------------------------------------------------------------\u001b[0m",
      "\u001b[1;31mNameError\u001b[0m                                 Traceback (most recent call last)",
      "Cell \u001b[1;32mIn [1], line 1\u001b[0m\n\u001b[1;32m----> 1\u001b[0m \u001b[43mnp\u001b[49m\u001b[38;5;241m.\u001b[39msum(a\u001b[38;5;241m*\u001b[39mseed)\n",
      "\u001b[1;31mNameError\u001b[0m: name 'np' is not defined"
     ]
    }
   ],
   "source": [
    "np.sum(a*seed)"
   ]
  },
  {
   "cell_type": "code",
   "execution_count": 12,
   "id": "3cebfcd5",
   "metadata": {},
   "outputs": [
    {
     "name": "stdout",
     "output_type": "stream",
     "text": [
      "The vector belongs to the hypercube: True\n"
     ]
    }
   ],
   "source": [
    "import numpy as np\n",
    "\n",
    "def is_within_hypercube(vector, lower_bounds, upper_bounds):\n",
    "    \"\"\"\n",
    "    Check if a vector belongs to the hypercube defined by the lower and upper bounds.\n",
    "\n",
    "    Parameters:\n",
    "        vector (np.ndarray): The vector in R^m to be checked.\n",
    "        lower_bounds (np.ndarray): The lower bounds for the hypercube.\n",
    "        upper_bounds (np.ndarray): The upper bounds for the hypercube.\n",
    "\n",
    "    Returns:\n",
    "        bool: True if the vector belongs to the hypercube, False otherwise.\n",
    "    \"\"\"\n",
    "    vector = np.asarray(vector)\n",
    "    lower_bounds = np.asarray(lower_bounds)\n",
    "    upper_bounds = np.asarray(upper_bounds)\n",
    "    \n",
    "    # Check if the vector is within bounds for all dimensions\n",
    "    return np.all(vector >= lower_bounds) and np.all(vector <= upper_bounds)\n",
    "\n",
    "# Example usage:\n",
    "\n",
    "\n",
    "cube  = np.array([[0, 1],\n",
    "                 [2, 3],\n",
    "                  [2, 3]])\n",
    "\n",
    "vector = np.array([0.5, 2.9, 2.5])  # Vector in R^3\n",
    "lower_bounds = cube[:, 0]  # Lower bounds for each dimension\n",
    "upper_bounds = cube[:, 1]  # Upper bounds for each dimension\n",
    "\n",
    "result = is_within_hypercube(vector, lower_bounds, upper_bounds)\n",
    "print(f\"The vector belongs to the hypercube: {result}\")\n"
   ]
  },
  {
   "cell_type": "code",
   "execution_count": 10,
   "id": "878914b3",
   "metadata": {},
   "outputs": [
    {
     "data": {
      "text/plain": [
       "array([0, 2, 2])"
      ]
     },
     "execution_count": 10,
     "metadata": {},
     "output_type": "execute_result"
    }
   ],
   "source": [
    "cube  = np.array([[0, 1],\n",
    "                 [2, 3],\n",
    "                  [2, 3]])\n",
    "\n",
    "lower = cube[:, 0]\n",
    "upper = cube[:, 1]\n",
    "lower\n",
    "\n"
   ]
  }
 ],
 "metadata": {
  "kernelspec": {
   "display_name": "Python 3 (ipykernel)",
   "language": "python",
   "name": "python3"
  },
  "language_info": {
   "codemirror_mode": {
    "name": "ipython",
    "version": 3
   },
   "file_extension": ".py",
   "mimetype": "text/x-python",
   "name": "python",
   "nbconvert_exporter": "python",
   "pygments_lexer": "ipython3",
   "version": "3.10.5"
  }
 },
 "nbformat": 4,
 "nbformat_minor": 5
}
