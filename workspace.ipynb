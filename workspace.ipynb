{
 "cells": [
  {
   "cell_type": "code",
   "execution_count": 38,
   "id": "dccde3a7",
   "metadata": {},
   "outputs": [],
   "source": [
    "import simpleCongurentGenerators\n",
    "import time\n",
    "import numpy as np"
   ]
  },
  {
   "cell_type": "code",
   "execution_count": 72,
   "id": "5fdae0cb",
   "metadata": {},
   "outputs": [],
   "source": [
    "sample_size = int(1e6)"
   ]
  },
  {
   "cell_type": "code",
   "execution_count": 36,
   "id": "0678be0a",
   "metadata": {},
   "outputs": [
    {
     "name": "stdout",
     "output_type": "stream",
     "text": [
      "Elapsed (with compilation) = 2.2014315128326416\n"
     ]
    }
   ],
   "source": [
    "## performance check (seconds - ok for educationals purpose)\n",
    "start = time.time()\n",
    "M=13\n",
    "sample_lcg = simpleCongurentGenerators.get_n_lcg(M, 1, 5, 2, size=int(1e6))\n",
    "end = time.time()\n",
    "print(\"Elapsed (with compilation) = %s\" % (end - start))"
   ]
  },
  {
   "cell_type": "markdown",
   "id": "6c66c136",
   "metadata": {},
   "source": [
    "## Map PRNG sample on [0,1] and perform test "
   ]
  },
  {
   "cell_type": "code",
   "execution_count": 45,
   "id": "91de0ff9",
   "metadata": {},
   "outputs": [],
   "source": [
    "sample_lcg_mapped = sample_lcg / M\n",
    "assert np.all((sample_lcg_mapped) >= 0 & (sample_lcg_mapped <= 1)) , \"not all elements in (0,1)\""
   ]
  },
  {
   "cell_type": "code",
   "execution_count": 48,
   "id": "b4d4b5c6",
   "metadata": {},
   "outputs": [],
   "source": [
    "from chi_square_test import chi_square_test"
   ]
  },
  {
   "cell_type": "code",
   "execution_count": 51,
   "id": "3c5d16be",
   "metadata": {},
   "outputs": [
    {
     "data": {
      "text/plain": [
       "1420.097041599997"
      ]
     },
     "execution_count": 51,
     "metadata": {},
     "output_type": "execute_result"
    }
   ],
   "source": [
    "test_stat = chi_square_test(sample_lcg_mapped)\n",
    "test_stat\n"
   ]
  },
  {
   "cell_type": "code",
   "execution_count": 52,
   "id": "098dae45",
   "metadata": {},
   "outputs": [],
   "source": [
    "from scipy import stats"
   ]
  },
  {
   "cell_type": "code",
   "execution_count": 55,
   "id": "6420a354",
   "metadata": {},
   "outputs": [
    {
     "data": {
      "text/plain": [
       "KstestResult(statistic=0.07692346153846152, pvalue=0.0, statistic_location=0.5384615384615384, statistic_sign=1)"
      ]
     },
     "execution_count": 55,
     "metadata": {},
     "output_type": "execute_result"
    }
   ],
   "source": [
    "stats.kstest(sample_lcg_mapped, 'uniform')"
   ]
  },
  {
   "cell_type": "markdown",
   "id": "a9de39c7",
   "metadata": {},
   "source": [
    "## RC(32)"
   ]
  },
  {
   "cell_type": "code",
   "execution_count": 61,
   "id": "79db8cf7",
   "metadata": {},
   "outputs": [],
   "source": [
    "from PRGA import PRGA\n",
    "from KSA import Keys, KSA"
   ]
  },
  {
   "cell_type": "code",
   "execution_count": 74,
   "id": "5523293f",
   "metadata": {},
   "outputs": [
    {
     "name": "stdout",
     "output_type": "stream",
     "text": [
      "Elapsed (with compilation) = 2.2094829082489014\n"
     ]
    }
   ],
   "source": [
    "keys = Keys(np.array([3, 4, 2, 5]))\n",
    "ksa = KSA(m=32)\n",
    "ksa.schedule(keys)\n",
    "prga = PRGA(ksa)\n",
    "start = time.time()\n",
    "sample_rc = prga.get_random(sample_size)\n",
    "end = time.time()\n",
    "print(\"Elapsed (with compilation) = %s\" % (end - start))"
   ]
  },
  {
   "cell_type": "code",
   "execution_count": 76,
   "id": "9ce86459",
   "metadata": {},
   "outputs": [],
   "source": [
    "sample_rc_mapped = sample_rc / ksa.m\n",
    "assert np.all((sample_rc_mapped) >= 0 & (sample_rc_mapped <= 1)) , \"not all elements in (0,1)\""
   ]
  }
 ],
 "metadata": {
  "kernelspec": {
   "display_name": "Python 3 (ipykernel)",
   "language": "python",
   "name": "python3"
  },
  "language_info": {
   "codemirror_mode": {
    "name": "ipython",
    "version": 3
   },
   "file_extension": ".py",
   "mimetype": "text/x-python",
   "name": "python",
   "nbconvert_exporter": "python",
   "pygments_lexer": "ipython3",
   "version": "3.10.5"
  }
 },
 "nbformat": 4,
 "nbformat_minor": 5
}
